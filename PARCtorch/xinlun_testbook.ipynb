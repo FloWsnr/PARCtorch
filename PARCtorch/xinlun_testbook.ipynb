{
 "cells": [
  {
   "cell_type": "code",
   "execution_count": 1,
   "id": "798d6ec5-404c-4563-8005-df4724129970",
   "metadata": {
    "tags": []
   },
   "outputs": [],
   "source": [
    "from PARCtorch.PARCv2 import PARCv2\n",
    "from PARCtorch.differentiator.advection import Advection\n",
    "from PARCtorch.differentiator.diffusion import Diffusion\n",
    "from PARCtorch.differentiator.differentiator import Differentiator\n",
    "from PARCtorch.differentiator.finitedifference import FiniteDifference\n",
    "from PARCtorch.differentiator.mappingandrecon import MappingAndRecon\n",
    "from PARCtorch.integrator.integrator import Integrator\n",
    "from PARCtorch.integrator.poisson import Poisson\n",
    "from PARCtorch.integrator.rk4 import RK4"
   ]
  },
  {
   "cell_type": "code",
   "execution_count": 2,
   "id": "0c4fdbd4-4bdd-443c-be7a-0de44033d0de",
   "metadata": {
    "tags": []
   },
   "outputs": [],
   "source": [
    "import torch\n",
    "from torchmetrics.functional.image import image_gradients\n",
    "import numpy as np\n",
    "import matplotlib.pyplot as plt\n",
    "from torchinfo import summary\n",
    "from torchview import draw_graph"
   ]
  },
  {
   "cell_type": "markdown",
   "id": "e3c89093-989b-456c-8fc6-797d0b161ab1",
   "metadata": {
    "tags": []
   },
   "source": [
    "### Finite difference testing"
   ]
  },
  {
   "cell_type": "code",
   "execution_count": null,
   "id": "752d78f5-4bd8-4ee5-a719-abea57272553",
   "metadata": {
    "tags": []
   },
   "outputs": [],
   "source": [
    "image = torch.arange(0, 1*1*5*5, dtype=torch.float32).to(\"cuda\")\n",
    "image = torch.reshape(image, (1, 1, 5, 5))\n",
    "dy, dx = image_gradients(image)\n",
    "dy[0, 0, :, :]"
   ]
  },
  {
   "cell_type": "code",
   "execution_count": null,
   "id": "c3179775-483a-4d8c-bb14-e6abb273003c",
   "metadata": {
    "tags": []
   },
   "outputs": [],
   "source": [
    "dx[0, 0, :, :]"
   ]
  },
  {
   "cell_type": "code",
   "execution_count": null,
   "id": "5c75c736-06c1-4b61-be21-35ddfe7899af",
   "metadata": {
    "tags": []
   },
   "outputs": [],
   "source": [
    "right_diff = FiniteDifference(padding_mode=\"replicate\")\n",
    "dy, dx = right_diff(image)\n",
    "dy[0, 0, :, :]"
   ]
  },
  {
   "cell_type": "code",
   "execution_count": null,
   "id": "8b550720-4ccf-4007-a9c0-aed3f8ca226b",
   "metadata": {
    "tags": []
   },
   "outputs": [],
   "source": [
    "dx[0, 0, :, :]"
   ]
  },
  {
   "cell_type": "code",
   "execution_count": null,
   "id": "57e358b9-526b-407b-98f6-f8292f25debb",
   "metadata": {
    "tags": []
   },
   "outputs": [],
   "source": [
    "summary(right_diff, (8, 1, 5, 5))"
   ]
  },
  {
   "cell_type": "markdown",
   "id": "874448db-7b63-44ed-ae4a-caf0da9f052a",
   "metadata": {},
   "source": [
    "### Advection testing"
   ]
  },
  {
   "cell_type": "code",
   "execution_count": null,
   "id": "94b9f825-a97e-4348-882e-8bfbf9fe763a",
   "metadata": {
    "jupyter": {
     "source_hidden": true
    },
    "tags": []
   },
   "outputs": [],
   "source": [
    "adv = Advection(right_diff)"
   ]
  },
  {
   "cell_type": "code",
   "execution_count": null,
   "id": "bf6ee2bd-c8cb-4f92-a432-b5aa10e403fc",
   "metadata": {
    "jupyter": {
     "source_hidden": true
    },
    "tags": []
   },
   "outputs": [],
   "source": [
    "data = np.load(\"/project/vil_baek/data/physics/transport_eqn_square/transport_eqn_square_64_1.00_8.00_8.00_1.00_2.00_8.00_120_0.10.npy\")\n",
    "adv_gt = (data[1, :, :, 0] - data[0, :, :, 0])/0.1"
   ]
  },
  {
   "cell_type": "code",
   "execution_count": null,
   "id": "913d23c8-4291-4ad2-bba1-37b6f91bd358",
   "metadata": {
    "jupyter": {
     "source_hidden": true
    },
    "tags": []
   },
   "outputs": [],
   "source": [
    "state_var = torch.permute(torch.tensor(data[0:1, :, :, 0:1], dtype=torch.float32), (0, 3, 1, 2)).cuda()\n",
    "vel_var = torch.permute(torch.tensor(data[0:1, :, :, 1:], dtype=torch.float32), (0, 3, 1, 2)).cuda()\n",
    "adv_parc = adv(state_var, vel_var)"
   ]
  },
  {
   "cell_type": "code",
   "execution_count": null,
   "id": "3ebb7fa8-ce83-4a07-ad0b-a755c3a2aa44",
   "metadata": {
    "jupyter": {
     "source_hidden": true
    },
    "tags": []
   },
   "outputs": [],
   "source": [
    "fig, (ax0, ax1) = plt.subplots(1, 2, figsize=(16, 5))\n",
    "im0 = ax0.imshow(adv_parc.detach().cpu().numpy()[0, 0, :, :])\n",
    "ax0.set_title(\"PARC\")\n",
    "plt.colorbar(im0)\n",
    "im1 = ax1.imshow(-adv_gt)\n",
    "ax1.set_title(\"GT\")\n",
    "plt.colorbar(im1)"
   ]
  },
  {
   "cell_type": "code",
   "execution_count": null,
   "id": "5ae5e1f3-0e7c-4bce-a206-000e6dc1c164",
   "metadata": {
    "jupyter": {
     "source_hidden": true
    },
    "tags": []
   },
   "outputs": [],
   "source": [
    "summary(adv, [(8, 1, 64, 128), (8,2, 64, 128)])"
   ]
  },
  {
   "cell_type": "markdown",
   "id": "f9f877ef-8dc0-456c-a02b-ea6df05a7d68",
   "metadata": {},
   "source": [
    "### Diffusion testing"
   ]
  },
  {
   "cell_type": "code",
   "execution_count": null,
   "id": "975d9c7f-8ddc-453c-8d39-c613e43679af",
   "metadata": {
    "tags": []
   },
   "outputs": [],
   "source": [
    "x, y = np.linspace(-1.0, 1.0, 64), np.linspace(-1.0, 1.0, 64)\n",
    "xx, yy = np.meshgrid(x, y, indexing='xy')\n",
    "data = (xx**2.0)*(yy**3.0)\n",
    "lap_gt = 2.0 * (yy**3.0) + (xx**2.0)*(6.0*yy)"
   ]
  },
  {
   "cell_type": "code",
   "execution_count": null,
   "id": "1d7f7c69-7e68-4df0-877d-3c79154527cf",
   "metadata": {
    "tags": []
   },
   "outputs": [],
   "source": [
    "dif = Diffusion(right_diff)\n",
    "lap_parc = dif(torch.tensor(data.reshape(1, 1, 64, 64), dtype=torch.float32, device=\"cuda\"))"
   ]
  },
  {
   "cell_type": "code",
   "execution_count": null,
   "id": "0c264564-be5d-4096-aa35-f852c22efcb5",
   "metadata": {
    "tags": []
   },
   "outputs": [],
   "source": [
    "fig, (ax0, ax1) = plt.subplots(1, 2, figsize=(16, 5))\n",
    "im0 = ax0.imshow(lap_parc.detach().cpu().numpy()[0, 0, :, :]*32*32, vmin=-8.0, vmax=8.0)\n",
    "ax0.set_title(\"PARC\")\n",
    "plt.colorbar(im0)\n",
    "im1 = ax1.imshow(lap_gt)\n",
    "ax1.set_title(\"GT\")\n",
    "plt.colorbar(im1)"
   ]
  },
  {
   "cell_type": "markdown",
   "id": "993d18e2-aef9-4a37-9243-83f703376a01",
   "metadata": {},
   "source": [
    "### Poisson testing"
   ]
  },
  {
   "cell_type": "code",
   "execution_count": null,
   "id": "6844510a-fbb2-438a-88d8-a5a8ecf05d0e",
   "metadata": {
    "tags": []
   },
   "outputs": [],
   "source": [
    "x, y = np.linspace(-1.0, 1.0, 64), np.linspace(-1.0, 1.0, 64)\n",
    "xx, yy = np.meshgrid(x, y, indexing='xy')\n",
    "vec_x = (xx**2.0)*(yy**3.0)\n",
    "vec_y = (xx**4.0)*(yy**5.0)\n",
    "vec = torch.cat([torch.tensor(vec_x.reshape(1, 1, 64, 64), dtype=torch.float), torch.tensor(vec_y.reshape(1, 1, 64, 64), dtype=torch.float)], 1)\n",
    "x_dx, x_dy = 2.0*xx*(yy**3.0), (xx**2.0)*3.0*(yy**2.0)\n",
    "y_dx, y_dy = 4.0*(xx**3.0)*(yy**5.0), (xx**4.0)*5.0*(yy*4.0)"
   ]
  },
  {
   "cell_type": "code",
   "execution_count": null,
   "id": "559f284e-d4e3-4c0f-af06-5538c35e3154",
   "metadata": {
    "tags": []
   },
   "outputs": [],
   "source": [
    "poi = Poisson(right_diff)\n",
    "x_dx2, y_dy2, x_dxy_dy = poi(vec.cuda())"
   ]
  },
  {
   "cell_type": "code",
   "execution_count": null,
   "id": "b25d3541-e42e-4443-a77a-ca5f51570db6",
   "metadata": {
    "tags": []
   },
   "outputs": [],
   "source": [
    "fig, (ax0, ax1) = plt.subplots(1, 2, figsize=(16, 5))\n",
    "ax0.imshow(x_dx2.detach().cpu().numpy()[0, 0, :, :])\n",
    "ax0.set_title(\"PARC\")\n",
    "ax1.imshow(x_dx*x_dx)\n",
    "ax1.set_title(\"GT\")"
   ]
  },
  {
   "cell_type": "code",
   "execution_count": null,
   "id": "9a9f4899-c24b-4115-8b45-d3a9077fe12a",
   "metadata": {
    "tags": []
   },
   "outputs": [],
   "source": [
    "fig, (ax0, ax1) = plt.subplots(1, 2, figsize=(16, 5))\n",
    "ax0.imshow(y_dy2.detach().cpu().numpy()[0, 0, :, :])\n",
    "ax0.set_title(\"PARC\")\n",
    "ax1.imshow(y_dy*y_dy)\n",
    "ax1.set_title(\"GT\")"
   ]
  },
  {
   "cell_type": "code",
   "execution_count": null,
   "id": "1f7a09bf-4c2a-4cd2-943f-b767777e5147",
   "metadata": {
    "tags": []
   },
   "outputs": [],
   "source": [
    "fig, (ax0, ax1) = plt.subplots(1, 2, figsize=(16, 5))\n",
    "ax0.imshow(x_dxy_dy.detach().cpu().numpy()[0, 0, :, :])\n",
    "ax0.set_title(\"PARC\")\n",
    "ax1.imshow(x_dx*y_dy)\n",
    "ax1.set_title(\"GT\")"
   ]
  },
  {
   "cell_type": "markdown",
   "id": "d71bfc0a-dad2-4d71-b2a2-5cddfee2857e",
   "metadata": {},
   "source": [
    "### SPADE"
   ]
  },
  {
   "cell_type": "code",
   "execution_count": null,
   "id": "f72fe54b-a285-403b-a0d5-59b282c884dd",
   "metadata": {
    "tags": []
   },
   "outputs": [],
   "source": [
    "from PARCtorch.utilities.spade import SPADE\n",
    "\n",
    "\n",
    "spade = SPADE(64, 2).cuda()\n",
    "draw_graph(spade, input_size=[(8, 64, 128, 256), (8, 2, 128, 256)]).visual_graph.render(\"SPADE\", directory=\"../docs\" ,format='png')\n",
    "summary(spade, [(8, 64, 128, 256), (8, 2, 128, 256)])"
   ]
  },
  {
   "cell_type": "markdown",
   "id": "ec28c943-c440-4a6a-be7e-03c494e7ef50",
   "metadata": {},
   "source": [
    "### Spade generator unit"
   ]
  },
  {
   "cell_type": "code",
   "execution_count": null,
   "id": "9430f9a6-7e81-4c26-b5cf-cfdc9bb38552",
   "metadata": {
    "tags": []
   },
   "outputs": [],
   "source": [
    "from PARCtorch.utilities.spade import SPADEGeneratorUnit\n",
    "\n",
    "sgu = SPADEGeneratorUnit(64, 64, 2).cuda()\n",
    "input_fe, input_explicit, input_rand = torch.randn(8, 64, 128, 256).cuda(), torch.randn(8, 2, 128, 256).cuda(), True\n",
    "draw_graph(sgu, [input_fe, input_explicit, input_rand], depth=1).visual_graph.render(\"SPADEGeneratorUnit\", directory=\"../docs\" ,format='png')\n",
    "summary(sgu, input_data=[input_fe, input_explicit, input_rand])"
   ]
  },
  {
   "cell_type": "markdown",
   "id": "0ec7a073-fac9-433e-bcce-37f6616637bd",
   "metadata": {},
   "source": [
    "### UNetUpBlock"
   ]
  },
  {
   "cell_type": "code",
   "execution_count": null,
   "id": "5cc60386-54c7-43e8-ba5f-e6739469d9c0",
   "metadata": {
    "tags": []
   },
   "outputs": [],
   "source": [
    "from PARCtorch.utilities.unet import UNetUpBlock\n",
    "\n",
    "uup = UNetUpBlock(64, 32, use_concat=False).cuda()\n",
    "draw_graph(uup, input_size=[(8, 64, 16, 32), (8, 64, 32, 64)]).visual_graph.render(\"UNetUpBlock_nocat\", directory=\"./doc\" ,format='png')\n",
    "summary(uup, input_size=[(8, 64, 16, 32), (8, 64, 32, 64)])"
   ]
  },
  {
   "cell_type": "code",
   "execution_count": null,
   "id": "977b6f2b-206f-4d80-a0c0-ef4c2c0cb4ed",
   "metadata": {
    "tags": []
   },
   "outputs": [],
   "source": [
    "uup = UNetUpBlock(64, 32, skip_channels=64, use_concat=True).cuda()\n",
    "draw_graph(uup, input_size=[(8, 64, 16, 32), (8, 64, 32, 64)]).visual_graph.render(\"UNetUpBlock_cat\", directory=\"../docs\" ,format='png')\n",
    "summary(uup, input_size=[(8, 64, 16, 32), (8, 64, 32, 64)])"
   ]
  },
  {
   "cell_type": "markdown",
   "id": "7b2c01af-ee1d-4285-80ba-743c2cee57cf",
   "metadata": {},
   "source": [
    "### UNetDownBlock"
   ]
  },
  {
   "cell_type": "code",
   "execution_count": null,
   "id": "582bc22f-9d06-4726-a3b6-0b2b704c78cd",
   "metadata": {
    "tags": []
   },
   "outputs": [],
   "source": [
    "from PARCtorch.utilities.unet import UNetDownBlock\n",
    "\n",
    "udown = UNetDownBlock(64, 128)\n",
    "draw_graph(udown, input_size=(8, 64, 128, 256)).visual_graph.render(\"UNetDownBlock\", directory=\"../docs\" ,format='png')\n",
    "summary(udown, input_size=(8, 64, 128, 256))"
   ]
  },
  {
   "cell_type": "markdown",
   "id": "42403826-f37b-4f46-8bbc-9396c34173e4",
   "metadata": {},
   "source": [
    "### UNet"
   ]
  },
  {
   "cell_type": "code",
   "execution_count": null,
   "id": "56094bf9-fc88-4e4f-94c5-1c27d5b7b163",
   "metadata": {
    "tags": []
   },
   "outputs": [],
   "source": [
    "from PARCtorch.utilities.unet import UNet\n",
    "\n",
    "unet = UNet([64, 64*2, 64*4, 64*8, 64*16], 5, 128, up_block_use_concat=[False, True, False, True], skip_connection_indices=[2, 0])\n",
    "draw_graph(unet, input_size=(8, 5, 128, 192), depth=1).visual_graph.render(\"UNet_em\", directory=\"../docs\" ,format='png')\n",
    "summary(unet, input_size=(8, 5, 128, 192))"
   ]
  },
  {
   "cell_type": "code",
   "execution_count": null,
   "id": "3b2a06ad-06b4-4da8-808f-0e75f2c893b3",
   "metadata": {
    "tags": []
   },
   "outputs": [],
   "source": [
    "unet = UNet([64, 64*2, 64*4], 5, 64, up_block_use_concat=[False, True], skip_connection_indices=[0])\n",
    "draw_graph(unet, input_size=(8, 5, 128, 192), depth=1).visual_graph.render(\"UNet_burger\", directory=\"../docs\" ,format='png')\n",
    "summary(unet, input_size=(8, 5, 128, 192))"
   ]
  },
  {
   "cell_type": "markdown",
   "id": "174272ba-eef5-41b0-b648-b6a13a7e7ede",
   "metadata": {},
   "source": [
    "### Resnet Block"
   ]
  },
  {
   "cell_type": "code",
   "execution_count": null,
   "id": "573a1c80-cfd1-4cd9-8cd5-b9c049604278",
   "metadata": {
    "tags": []
   },
   "outputs": [],
   "source": [
    "from PARCtorch.utilities.resnet import ResNetBlock\n",
    "\n",
    "resnet_block = ResNetBlock(64, 64, 3, \"constant\")\n",
    "draw_graph(resnet_block, input_size=(8, 64, 128, 256)).visual_graph.render(\"ResNetBlock\", directory=\"../docs\" ,format='png')\n",
    "summary(resnet_block, input_size=(8, 64, 128, 256))"
   ]
  },
  {
   "cell_type": "markdown",
   "id": "e0a7180a-28c4-4ad9-b0bb-e4e682317518",
   "metadata": {},
   "source": [
    "### Resnet"
   ]
  },
  {
   "cell_type": "code",
   "execution_count": null,
   "id": "6879727c-6cca-4bfd-852a-0b86070e6083",
   "metadata": {
    "tags": []
   },
   "outputs": [],
   "source": [
    "from PARCtorch.utilities.resnet import ResNet\n",
    "\n",
    "\n",
    "resnet = ResNet(32, [128, 128], 1, False)\n",
    "draw_graph(resnet, input_size=(8, 32, 128, 256), depth=2).visual_graph.render(\"ResNet\", directory=\"../docs\" ,format='png')\n",
    "summary(resnet, input_size=(8, 32, 128, 256))"
   ]
  },
  {
   "cell_type": "code",
   "execution_count": null,
   "id": "102135c3-bbac-4edd-ae56-0c3aa01d24f6",
   "metadata": {
    "tags": []
   },
   "outputs": [],
   "source": [
    "resnet = ResNet(32, [64, 128, 256], 3, True)\n",
    "draw_graph(resnet, input_size=(8, 32, 128, 256), depth=2).visual_graph.render(\"ResNet_down\", directory=\"../docs\" ,format='png')"
   ]
  },
  {
   "cell_type": "markdown",
   "id": "5c52d48a-193a-4b5c-9749-59f335d6a6ec",
   "metadata": {},
   "source": [
    "### Mapping And Recon"
   ]
  },
  {
   "cell_type": "code",
   "execution_count": null,
   "id": "07e0e951-52d8-464c-bcb5-cd926da376e1",
   "metadata": {
    "tags": []
   },
   "outputs": [],
   "source": [
    "mar = MappingAndRecon(128, 2, 1, \"constant\")\n",
    "draw_graph(mar, input_size=[(8, 128, 128, 192), (8, 2, 128, 192)]).visual_graph.render(\"MappingAndRecon_2_2\", directory=\"../docs\" ,format='png')\n",
    "summary(mar, input_size=[(8, 128, 128, 192), (8, 2, 128, 192)])"
   ]
  },
  {
   "cell_type": "markdown",
   "id": "65d67eca-e900-4583-81e5-54f867e36b1d",
   "metadata": {},
   "source": [
    "### Differentiator"
   ]
  },
  {
   "cell_type": "code",
   "execution_count": null,
   "id": "e36500c0-6221-4200-a205-d5077efcca5a",
   "metadata": {
    "tags": []
   },
   "outputs": [],
   "source": [
    "# EM: T, p, mu, u, v\n",
    "# Adv: all vars\n",
    "# Dif: T only\n",
    "n_fe_features = 128\n",
    "unet_em = UNet([64, 64*2, 64*4, 64*8, 64*16], 5, n_fe_features, up_block_use_concat=[False, True, False, True], skip_connection_indices=[2, 0]).cuda()\n",
    "diff_em = Differentiator(3,                 # 3 state variables: T, p, mu. We always assume 2 velocity being the last 2 channels \n",
    "                         n_fe_features,     # Number of features returned by the feature extraction network\n",
    "                         [0, 1, 2, 3, 4],   # Channel indices to calculate advection\n",
    "                         [0],               # Channel indices to calculate diffusion\n",
    "                         unet_em,           # Feature extraction network\n",
    "                         \"constant\",        # Padding mode\n",
    "                         right_diff         # Finite difference method\n",
    "                        ).cuda()\n",
    "draw_graph(diff_em, input_size=(8, 5, 128, 192), depth=1).visual_graph.render(\"Diff_em\", directory=\"../docs\" ,format='png')\n",
    "summary(diff_em, input_size=(8, 5, 128, 192))"
   ]
  },
  {
   "cell_type": "code",
   "execution_count": null,
   "id": "444d75aa-6421-4d23-ba28-34986b9622a7",
   "metadata": {},
   "outputs": [],
   "source": [
    "# Burgers: u, v\n",
    "# Adv: all vars\n",
    "# Dif: all vars\n",
    "n_fe_features = 64\n",
    "unet_burgers = UNet([64, 64*2, 64*4], 3, n_fe_features, up_block_use_concat=[False, True], skip_connection_indices=[0])\n",
    "diff_burgers = Differentiator(1,                 # 1 state variables: mu. We always assume 2 velocity being the last 2 channels \n",
    "                              n_fe_features,     # Number of features returned by the feature extraction network\n",
    "                              [1, 2],            # Channel indices to calculate advection\n",
    "                              [1, 2],            # Channel indices to calculate diffusion\n",
    "                              unet_burgers,      # Feature extraction network\n",
    "                              \"constant\",        # Padding mode\n",
    "                              right_diff         # Finite difference method\n",
    "                             ).cuda()\n",
    "draw_graph(diff_burgers, input_size=(8, 3, 64, 64), depth=1).visual_graph.render(\"Diff_burgers\", directory=\"../docs\" ,format='png')\n",
    "summary(diff_burgers, input_size=(8, 3, 64, 64))"
   ]
  },
  {
   "cell_type": "code",
   "execution_count": null,
   "id": "d09d6511-099f-4bd7-b62d-0843861c4f11",
   "metadata": {
    "tags": []
   },
   "outputs": [],
   "source": [
    "# N-S: p, re, u, v\n",
    "# Adv: u, v\n",
    "# Dif: u, vs\n",
    "n_fe_features = 128\n",
    "unet_ns = UNet([64, 64*2, 64*4, 64*8, 64*16], 4, n_fe_features, up_block_use_concat=[False, True, False, True], skip_connection_indices=[2, 0]).cuda()\n",
    "diff_ns = Differentiator(2,                 # 2 state variables: p, re. We always assume 2 velocity being the last 2 channels \n",
    "                              n_fe_features,     # Number of features returned by the feature extraction network\n",
    "                              [2, 3],            # Channel indices to calculate advection\n",
    "                              [2, 3],            # Channel indices to calculate diffusion\n",
    "                              unet_ns,      # Feature extraction network\n",
    "                              \"constant\",        # Padding mode\n",
    "                              right_diff         # Finite difference method\n",
    "                             ).cuda()\n",
    "draw_graph(diff_ns, input_size=(8, 4, 128, 256), depth=1).visual_graph.render(\"Diff_ns\", directory=\"../docs\" ,format='png')\n",
    "summary(diff_ns, input_size=(8, 4, 128, 256))"
   ]
  },
  {
   "cell_type": "markdown",
   "id": "d5362269-17a2-48e5-afa1-d8858d0526d6",
   "metadata": {},
   "source": [
    "### Poisson block"
   ]
  },
  {
   "cell_type": "code",
   "execution_count": null,
   "id": "bca3a867-60ba-4777-87c8-86423f042040",
   "metadata": {
    "tags": []
   },
   "outputs": [],
   "source": [
    "from PARCtorch.integrator.poisson import PoissonBlock\n",
    "\n",
    "\n",
    "poi_block = PoissonBlock(3, right_diff)\n",
    "draw_graph(poi_block, input_size=(8, 3, 128, 256), depth=1).visual_graph.render(\"PoissonBlock\", directory=\"../docs\" ,format='png')\n",
    "summary(poi_block, input_size=(8, 3, 128, 256))"
   ]
  },
  {
   "cell_type": "markdown",
   "id": "b7540346-ad38-48e4-b7aa-aa5bf99956bf",
   "metadata": {},
   "source": [
    "### Numerical integrators"
   ]
  },
  {
   "cell_type": "code",
   "execution_count": null,
   "id": "433839d6-0459-4ec9-b007-70178444d05f",
   "metadata": {},
   "outputs": [],
   "source": [
    "\n",
    "\n",
    "rk4_int = RK4()\n",
    "cdiff = FiniteDifference(filter_1d=np.array([-1.0, 0.0, 1.0], dtype=np.float32)*0.5, padding_mode=\"circular\")\n",
    "diff_func = lambda x: -1e2*torch.sum(torch.cat(cdiff(x), 1), 1, keepdim=True)\n",
    "step_size = 1e-3\n",
    "res = []\n",
    "x, y = np.linspace(-3.0, 3.0, 600), np.linspace(-3.0, 3.0, 600)\n",
    "xx, yy = np.meshgrid(x, y)\n",
    "ic = torch.tensor(np.exp(-0.5*xx*xx-0.5*yy*yy), dtype=torch.float32).cuda().unsqueeze(0).unsqueeze(0)\n",
    "current = ic\n",
    "for _ in range(2000):\n",
    "    current, _ = rk4_int(diff_func, current, step_size)\n",
    "    res.append(current[0, 0, :, :].detach().cpu().numpy())"
   ]
  },
  {
   "cell_type": "code",
   "execution_count": null,
   "id": "fca37193-b971-458d-80f0-a0a06627afd0",
   "metadata": {
    "tags": []
   },
   "outputs": [],
   "source": [
    "fig, ax = plt.subplots(1, 5, figsize=(25,6))\n",
    "for i in range(5):\n",
    "    ax[i].imshow(res[i*400], origin=\"lower\", extent=(-3.0, 3.0, -3.0, 3.0))\n",
    "    ax[i].plot(i*400*1e-3, i*400*1e-3, \"bo\")"
   ]
  },
  {
   "cell_type": "markdown",
   "id": "77ffaf3f-4bbe-423b-8847-b826743283b1",
   "metadata": {},
   "source": [
    "### Integrators"
   ]
  },
  {
   "cell_type": "code",
   "execution_count": null,
   "id": "7cbc8b26-9b6a-42a3-b0eb-a2d525817a1d",
   "metadata": {},
   "outputs": [],
   "source": [
    "# No Poisson blocks\n",
    "\n",
    "\n",
    "def transport_parc_int(x):\n",
    "    t_dot = torch.zeros_like(x)\n",
    "    dt_dy, dt_dx = cdiff(x[:, 0:1, :, :])\n",
    "    adv_t = torch.sum(dt_dx * x[:, 1:2, :, :] + dt_dy * x[:, 2:3, :, :], 1, keepdim=True) * 1e2\n",
    "    t_dot[:, 0, :, :] = -adv_t\n",
    "    return t_dot\n",
    "\n",
    "\n",
    "integrator = Integrator(False, [], rk4_int, [None], \"constant\", cdiff)\n",
    "ic_parc = torch.cat([ic, torch.ones_like(ic), torch.ones_like(ic)], 1)\n",
    "t1 = (torch.tensor(range(1999), dtype=torch.float32).cuda() + 1.0) * step_size\n",
    "res = integrator(transport_parc_int, ic_parc, 0.0, t1)"
   ]
  },
  {
   "cell_type": "code",
   "execution_count": null,
   "id": "8d755187-08e0-44f6-b077-a7ffcf894f0c",
   "metadata": {
    "tags": []
   },
   "outputs": [],
   "source": [
    "res.shape"
   ]
  },
  {
   "cell_type": "code",
   "execution_count": null,
   "id": "ad74ece4-0533-46a0-b21d-9cb5360c1a80",
   "metadata": {
    "tags": []
   },
   "outputs": [],
   "source": [
    "fig, ax = plt.subplots(1, 5, figsize=(25, 6))\n",
    "for i in range(5):\n",
    "    ax[i].imshow(res[i*400, 0, 0, :, :].detach().cpu().numpy(), origin=\"lower\", extent=(-3.0, 3.0, -3.0, 3.0))\n",
    "    ax[i].plot(i*400*1e-3, i*400*1e-3, \"bo\")"
   ]
  },
  {
   "cell_type": "code",
   "execution_count": null,
   "id": "0734cd39-db78-4d34-bc9d-0e35668f3db8",
   "metadata": {
    "tags": []
   },
   "outputs": [],
   "source": [
    "conservation_law = torch.sum(res[:, 0, 0, :, :], (1, 2))\n",
    "plt.plot(conservation_law.detach().cpu().numpy())"
   ]
  },
  {
   "cell_type": "code",
   "execution_count": null,
   "id": "c9bea731-4e0a-478b-a056-8cac855c80f2",
   "metadata": {
    "tags": []
   },
   "outputs": [],
   "source": [
    "# With Poisson blocks\n",
    "# N-S\n",
    "# 2 state variables: p, re, u, v\n",
    "# p is entirely determined by Poisson block\n",
    "ic = torch.randn((8, 4, 128, 256)).cuda()\n",
    "t1 = (torch.tensor(range(1), dtype=torch.float32).cuda() + 1.0) / 40.0\n",
    "integrator_ns = Integrator(True, [(1, 2, 3, 0)], rk4_int, [None, None, None, None], \"constant\", right_diff).cuda()\n",
    "draw_graph(integrator_ns, input_data=[diff_ns, ic, 0.0, t1], depth=2, roll=True).visual_graph.render(\"Integrator_w_poisson\", directory=\"../docs\" ,format='png')"
   ]
  },
  {
   "cell_type": "markdown",
   "id": "6d4bfa23-5475-413d-96b2-801444996cda",
   "metadata": {},
   "source": [
    "### PARCv2"
   ]
  },
  {
   "cell_type": "code",
   "execution_count": null,
   "id": "14f36521-1382-4644-bf6a-37332c5c52e4",
   "metadata": {
    "tags": []
   },
   "outputs": [],
   "source": [
    "# EM\n",
    "integrator_em = integrator_ns = Integrator(True, [], rk4_int, [None, None, None, None, None], \"constant\", right_diff).cuda()\n",
    "loss = torch.nn.L1Loss()\n",
    "parcv2_em = PARCv2(diff_em, integrator_em, loss)\n",
    "\n",
    "ic = torch.randn((1, 5, 128, 256))\n",
    "t1 = (torch.tensor(range(4), dtype=torch.float32).cuda() + 1.0) / 40.0\n",
    "\n",
    "draw_graph(parcv2_em, input_data=[ic, 0.0, t1], depth=2, roll=True).visual_graph.render(\"PARCv2\", directory=\"../docs\" ,format='png')"
   ]
  },
  {
   "cell_type": "markdown",
   "id": "074b4b19-1f27-4592-ac3d-1ec2547a2f76",
   "metadata": {},
   "source": [
    "### DDI"
   ]
  },
  {
   "cell_type": "code",
   "execution_count": 3,
   "id": "ccd43568-85e4-46a5-8b4d-82aad238bbbb",
   "metadata": {},
   "outputs": [
    {
     "data": {
      "text/plain": [
       "==========================================================================================\n",
       "Layer (type:depth-idx)                   Output Shape              Param #\n",
       "==========================================================================================\n",
       "DataDrivenIntegrator                     [8, 1, 128, 192]          --\n",
       "├─Conv2d: 1-1                            [8, 128, 128, 192]        256\n",
       "├─Conv2d: 1-2                            [8, 128, 128, 192]        16,512\n",
       "├─SPADEGeneratorUnit: 1-3                [8, 128, 128, 192]        --\n",
       "│    └─SPADE: 2-1                        [8, 128, 128, 192]        --\n",
       "│    │    └─Sequential: 3-1              [8, 128, 128, 192]        1,280\n",
       "│    │    └─Conv2d: 3-2                  [8, 128, 128, 192]        147,584\n",
       "│    │    └─Conv2d: 3-3                  [8, 128, 128, 192]        147,584\n",
       "│    └─LeakyReLU: 2-2                    [8, 128, 128, 192]        --\n",
       "│    └─Conv2d: 2-3                       [8, 128, 128, 192]        16,512\n",
       "│    └─SPADE: 2-4                        [8, 128, 128, 192]        --\n",
       "│    │    └─Sequential: 3-4              [8, 128, 128, 192]        1,280\n",
       "│    │    └─Conv2d: 3-5                  [8, 128, 128, 192]        147,584\n",
       "│    │    └─Conv2d: 3-6                  [8, 128, 128, 192]        147,584\n",
       "│    └─LeakyReLU: 2-5                    [8, 128, 128, 192]        --\n",
       "│    └─Conv2d: 2-6                       [8, 128, 128, 192]        16,512\n",
       "│    └─SPADE: 2-7                        [8, 128, 128, 192]        --\n",
       "│    │    └─Sequential: 3-7              [8, 128, 128, 192]        1,280\n",
       "│    │    └─Conv2d: 3-8                  [8, 128, 128, 192]        147,584\n",
       "│    │    └─Conv2d: 3-9                  [8, 128, 128, 192]        147,584\n",
       "│    └─LeakyReLU: 2-8                    [8, 128, 128, 192]        --\n",
       "│    └─Conv2d: 2-9                       [8, 128, 128, 192]        16,512\n",
       "├─ResNet: 1-4                            [8, 128, 128, 192]        --\n",
       "│    └─Sequential: 2-10                  [8, 128, 128, 192]        --\n",
       "│    │    └─Conv2d: 3-10                 [8, 128, 128, 192]        16,512\n",
       "│    │    └─ReLU: 3-11                   [8, 128, 128, 192]        --\n",
       "│    └─Sequential: 2-11                  [8, 128, 128, 192]        --\n",
       "│    │    └─Conv2d: 3-12                 [8, 128, 128, 192]        16,512\n",
       "│    │    └─ReLU: 3-13                   [8, 128, 128, 192]        --\n",
       "│    └─Sequential: 2-12                  [8, 128, 128, 192]        --\n",
       "│    │    └─ResNetBlock: 3-14            [8, 128, 128, 192]        33,024\n",
       "│    │    └─ResNetBlock: 3-15            [8, 128, 128, 192]        33,024\n",
       "├─Conv2d: 1-5                            [8, 1, 128, 192]          129\n",
       "==========================================================================================\n",
       "Total params: 1,054,849\n",
       "Trainable params: 1,054,849\n",
       "Non-trainable params: 0\n",
       "Total mult-adds (Units.GIGABYTES): 207.39\n",
       "==========================================================================================\n",
       "Input size (MB): 1.57\n",
       "Forward/backward pass size (MB): 4028.10\n",
       "Params size (MB): 4.22\n",
       "Estimated Total Size (MB): 4033.90\n",
       "=========================================================================================="
      ]
     },
     "execution_count": 3,
     "metadata": {},
     "output_type": "execute_result"
    }
   ],
   "source": [
    "from PARCtorch.integrator.datadrivenintegrator import DataDrivenIntegrator as DDI\n",
    "\n",
    "\n",
    "ddi_normal = DDI(1, 128)\n",
    "draw_graph(ddi_normal, input_size=[(8, 1, 128, 192), (8, 1, 128, 192)], depth=1).visual_graph.render(\"DataDrivenIntegrator_state\", directory=\"../docs\" ,format='png')\n",
    "summary(ddi_normal, input_size=[(8, 1, 128, 192), (8, 1, 128, 192)])"
   ]
  },
  {
   "cell_type": "code",
   "execution_count": 4,
   "id": "53bd4a2d-40f0-4bf9-97bd-bf8b7fe27ef4",
   "metadata": {},
   "outputs": [
    {
     "data": {
      "text/plain": [
       "==========================================================================================\n",
       "Layer (type:depth-idx)                   Output Shape              Param #\n",
       "==========================================================================================\n",
       "DataDrivenIntegrator                     [8, 2, 128, 192]          --\n",
       "├─Conv2d: 1-1                            [8, 128, 128, 192]        384\n",
       "├─Conv2d: 1-2                            [8, 128, 128, 192]        16,512\n",
       "├─SPADEGeneratorUnit: 1-3                [8, 128, 128, 192]        --\n",
       "│    └─SPADE: 2-1                        [8, 128, 128, 192]        --\n",
       "│    │    └─Sequential: 3-1              [8, 128, 128, 192]        2,432\n",
       "│    │    └─Conv2d: 3-2                  [8, 128, 128, 192]        147,584\n",
       "│    │    └─Conv2d: 3-3                  [8, 128, 128, 192]        147,584\n",
       "│    └─LeakyReLU: 2-2                    [8, 128, 128, 192]        --\n",
       "│    └─Conv2d: 2-3                       [8, 128, 128, 192]        16,512\n",
       "│    └─SPADE: 2-4                        [8, 128, 128, 192]        --\n",
       "│    │    └─Sequential: 3-4              [8, 128, 128, 192]        2,432\n",
       "│    │    └─Conv2d: 3-5                  [8, 128, 128, 192]        147,584\n",
       "│    │    └─Conv2d: 3-6                  [8, 128, 128, 192]        147,584\n",
       "│    └─LeakyReLU: 2-5                    [8, 128, 128, 192]        --\n",
       "│    └─Conv2d: 2-6                       [8, 128, 128, 192]        16,512\n",
       "│    └─SPADE: 2-7                        [8, 128, 128, 192]        --\n",
       "│    │    └─Sequential: 3-7              [8, 128, 128, 192]        2,432\n",
       "│    │    └─Conv2d: 3-8                  [8, 128, 128, 192]        147,584\n",
       "│    │    └─Conv2d: 3-9                  [8, 128, 128, 192]        147,584\n",
       "│    └─LeakyReLU: 2-8                    [8, 128, 128, 192]        --\n",
       "│    └─Conv2d: 2-9                       [8, 128, 128, 192]        16,512\n",
       "├─ResNet: 1-4                            [8, 128, 128, 192]        --\n",
       "│    └─Sequential: 2-10                  [8, 128, 128, 192]        --\n",
       "│    │    └─Conv2d: 3-10                 [8, 128, 128, 192]        16,512\n",
       "│    │    └─ReLU: 3-11                   [8, 128, 128, 192]        --\n",
       "│    └─Sequential: 2-11                  [8, 128, 128, 192]        --\n",
       "│    │    └─Conv2d: 3-12                 [8, 128, 128, 192]        16,512\n",
       "│    │    └─ReLU: 3-13                   [8, 128, 128, 192]        --\n",
       "│    └─Sequential: 2-12                  [8, 128, 128, 192]        --\n",
       "│    │    └─ResNetBlock: 3-14            [8, 128, 128, 192]        33,024\n",
       "│    │    └─ResNetBlock: 3-15            [8, 128, 128, 192]        33,024\n",
       "├─Conv2d: 1-5                            [8, 2, 128, 192]          258\n",
       "==========================================================================================\n",
       "Total params: 1,058,562\n",
       "Trainable params: 1,058,562\n",
       "Non-trainable params: 0\n",
       "Total mult-adds (Units.GIGABYTES): 208.12\n",
       "==========================================================================================\n",
       "Input size (MB): 3.15\n",
       "Forward/backward pass size (MB): 4029.68\n",
       "Params size (MB): 4.23\n",
       "Estimated Total Size (MB): 4037.06\n",
       "=========================================================================================="
      ]
     },
     "execution_count": 4,
     "metadata": {},
     "output_type": "execute_result"
    }
   ],
   "source": [
    "ddi_vel = DDI(2, 128)\n",
    "draw_graph(ddi_vel, input_size=[(8, 2, 128, 192), (8, 2, 128, 192)], depth=1).visual_graph.render(\"DataDrivenIntegrator_velocity\", directory=\"../docs\" ,format='png')\n",
    "summary(ddi_vel, input_size=[(8, 2, 128, 192), (8, 2, 128, 192)])"
   ]
  },
  {
   "cell_type": "code",
   "execution_count": null,
   "id": "5485355d-9202-4c75-9278-fbdcfbfbaf31",
   "metadata": {},
   "outputs": [],
   "source": []
  }
 ],
 "metadata": {
  "kernelspec": {
   "display_name": "Python 3 (ipykernel)",
   "language": "python",
   "name": "python3"
  },
  "language_info": {
   "codemirror_mode": {
    "name": "ipython",
    "version": 3
   },
   "file_extension": ".py",
   "mimetype": "text/x-python",
   "name": "python",
   "nbconvert_exporter": "python",
   "pygments_lexer": "ipython3",
   "version": "3.12.2"
  }
 },
 "nbformat": 4,
 "nbformat_minor": 5
}
