{
 "cells": [
  {
   "cell_type": "code",
   "execution_count": 1,
   "id": "798d6ec5-404c-4563-8005-df4724129970",
   "metadata": {
    "tags": []
   },
   "outputs": [],
   "source": [
    "from PARCv2 import PARCv2\n",
    "from Differentiator.Differentiator import Differentiator\n",
    "from Differentiator.FiniteDifference import FiniteDifference\n",
    "from Integrator.Integrator import Integrator\n",
    "from Integrator.RK4 import RK4\n",
    "import torch\n",
    "from torchmetrics.functional.image import image_gradients"
   ]
  },
  {
   "cell_type": "markdown",
   "id": "e3c89093-989b-456c-8fc6-797d0b161ab1",
   "metadata": {},
   "source": [
    "### Finite difference testing"
   ]
  },
  {
   "cell_type": "code",
   "execution_count": 7,
   "id": "b6bf8863-0cde-4232-a540-779d4a66fef1",
   "metadata": {
    "tags": []
   },
   "outputs": [],
   "source": [
    "right_diff = FiniteDifference(padding_mode=\"replicate\")"
   ]
  },
  {
   "cell_type": "code",
   "execution_count": 8,
   "id": "752d78f5-4bd8-4ee5-a719-abea57272553",
   "metadata": {
    "tags": []
   },
   "outputs": [
    {
     "data": {
      "text/plain": [
       "tensor([[5., 5., 5., 5., 5.],\n",
       "        [5., 5., 5., 5., 5.],\n",
       "        [5., 5., 5., 5., 5.],\n",
       "        [5., 5., 5., 5., 5.],\n",
       "        [0., 0., 0., 0., 0.]])"
      ]
     },
     "execution_count": 8,
     "metadata": {},
     "output_type": "execute_result"
    }
   ],
   "source": [
    "image = torch.arange(0, 1*1*5*5, dtype=torch.float32)\n",
    "image = torch.reshape(image, (1, 1, 5, 5))\n",
    "dy, dx = image_gradients(image)\n",
    "dy[0, 0, :, :]"
   ]
  },
  {
   "cell_type": "code",
   "execution_count": 9,
   "id": "c3179775-483a-4d8c-bb14-e6abb273003c",
   "metadata": {
    "tags": []
   },
   "outputs": [
    {
     "data": {
      "text/plain": [
       "tensor([[1., 1., 1., 1., 0.],\n",
       "        [1., 1., 1., 1., 0.],\n",
       "        [1., 1., 1., 1., 0.],\n",
       "        [1., 1., 1., 1., 0.],\n",
       "        [1., 1., 1., 1., 0.]])"
      ]
     },
     "execution_count": 9,
     "metadata": {},
     "output_type": "execute_result"
    }
   ],
   "source": [
    "dx[0, 0, :, :]"
   ]
  },
  {
   "cell_type": "code",
   "execution_count": 10,
   "id": "5c75c736-06c1-4b61-be21-35ddfe7899af",
   "metadata": {
    "tags": []
   },
   "outputs": [
    {
     "name": "stdout",
     "output_type": "stream",
     "text": [
      "tensor([[[[ 0.,  1.,  2.,  3.,  4.],\n",
      "          [ 5.,  6.,  7.,  8.,  9.],\n",
      "          [10., 11., 12., 13., 14.],\n",
      "          [15., 16., 17., 18., 19.],\n",
      "          [20., 21., 22., 23., 24.],\n",
      "          [20., 21., 22., 23., 24.]]]])\n"
     ]
    },
    {
     "data": {
      "text/plain": [
       "tensor([[5., 5., 5., 5., 5.],\n",
       "        [5., 5., 5., 5., 5.],\n",
       "        [5., 5., 5., 5., 5.],\n",
       "        [5., 5., 5., 5., 5.],\n",
       "        [0., 0., 0., 0., 0.]])"
      ]
     },
     "execution_count": 10,
     "metadata": {},
     "output_type": "execute_result"
    }
   ],
   "source": [
    "dy, dx = right_diff(image)\n",
    "dy[0, 0, :, :]"
   ]
  },
  {
   "cell_type": "code",
   "execution_count": 11,
   "id": "8b550720-4ccf-4007-a9c0-aed3f8ca226b",
   "metadata": {
    "tags": []
   },
   "outputs": [
    {
     "data": {
      "text/plain": [
       "tensor([[1., 1., 1., 1., 0.],\n",
       "        [1., 1., 1., 1., 0.],\n",
       "        [1., 1., 1., 1., 0.],\n",
       "        [1., 1., 1., 1., 0.],\n",
       "        [1., 1., 1., 1., 0.]])"
      ]
     },
     "execution_count": 11,
     "metadata": {},
     "output_type": "execute_result"
    }
   ],
   "source": [
    "dx[0, 0, :, :]"
   ]
  },
  {
   "cell_type": "code",
   "execution_count": null,
   "id": "95fb87f8-f38d-4916-b801-d2dd65c60955",
   "metadata": {},
   "outputs": [],
   "source": []
  }
 ],
 "metadata": {
  "kernelspec": {
   "display_name": "PyTorch 2.4.0",
   "language": "python",
   "name": "pytorch-2.4.0"
  },
  "language_info": {
   "codemirror_mode": {
    "name": "ipython",
    "version": 3
   },
   "file_extension": ".py",
   "mimetype": "text/x-python",
   "name": "python",
   "nbconvert_exporter": "python",
   "pygments_lexer": "ipython3",
   "version": "3.10.12"
  }
 },
 "nbformat": 4,
 "nbformat_minor": 5
}
