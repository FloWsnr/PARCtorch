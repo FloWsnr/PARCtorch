{
 "cells": [
  {
   "cell_type": "code",
   "execution_count": 1,
   "id": "798d6ec5-404c-4563-8005-df4724129970",
   "metadata": {
    "tags": []
   },
   "outputs": [],
   "source": [
    "from PARCv2 import PARCv2\n",
    "from Differentiator.Advection import Advection\n",
    "from Differentiator.Differentiator import Differentiator\n",
    "from Differentiator.FiniteDifference import FiniteDifference\n",
    "from Integrator.Integrator import Integrator\n",
    "from Integrator.RK4 import RK4"
   ]
  },
  {
   "cell_type": "code",
   "execution_count": 2,
   "id": "0c4fdbd4-4bdd-443c-be7a-0de44033d0de",
   "metadata": {
    "tags": []
   },
   "outputs": [],
   "source": [
    "import torch\n",
    "from torchmetrics.functional.image import image_gradients\n",
    "import numpy as np\n",
    "import matplotlib.pyplot as plt"
   ]
  },
  {
   "cell_type": "markdown",
   "id": "e3c89093-989b-456c-8fc6-797d0b161ab1",
   "metadata": {},
   "source": [
    "### Finite difference testing"
   ]
  },
  {
   "cell_type": "code",
   "execution_count": 3,
   "id": "b6bf8863-0cde-4232-a540-779d4a66fef1",
   "metadata": {
    "tags": []
   },
   "outputs": [],
   "source": [
    "right_diff = FiniteDifference(padding_mode=\"replicate\")"
   ]
  },
  {
   "cell_type": "code",
   "execution_count": 4,
   "id": "752d78f5-4bd8-4ee5-a719-abea57272553",
   "metadata": {
    "tags": []
   },
   "outputs": [
    {
     "data": {
      "text/plain": [
       "tensor([[5., 5., 5., 5., 5.],\n",
       "        [5., 5., 5., 5., 5.],\n",
       "        [5., 5., 5., 5., 5.],\n",
       "        [5., 5., 5., 5., 5.],\n",
       "        [0., 0., 0., 0., 0.]])"
      ]
     },
     "execution_count": 4,
     "metadata": {},
     "output_type": "execute_result"
    }
   ],
   "source": [
    "image = torch.arange(0, 1*1*5*5, dtype=torch.float32)\n",
    "image = torch.reshape(image, (1, 1, 5, 5))\n",
    "dy, dx = image_gradients(image)\n",
    "dy[0, 0, :, :]"
   ]
  },
  {
   "cell_type": "code",
   "execution_count": 5,
   "id": "c3179775-483a-4d8c-bb14-e6abb273003c",
   "metadata": {
    "tags": []
   },
   "outputs": [
    {
     "data": {
      "text/plain": [
       "tensor([[1., 1., 1., 1., 0.],\n",
       "        [1., 1., 1., 1., 0.],\n",
       "        [1., 1., 1., 1., 0.],\n",
       "        [1., 1., 1., 1., 0.],\n",
       "        [1., 1., 1., 1., 0.]])"
      ]
     },
     "execution_count": 5,
     "metadata": {},
     "output_type": "execute_result"
    }
   ],
   "source": [
    "dx[0, 0, :, :]"
   ]
  },
  {
   "cell_type": "code",
   "execution_count": 6,
   "id": "5c75c736-06c1-4b61-be21-35ddfe7899af",
   "metadata": {
    "tags": []
   },
   "outputs": [
    {
     "data": {
      "text/plain": [
       "tensor([[5., 5., 5., 5., 5.],\n",
       "        [5., 5., 5., 5., 5.],\n",
       "        [5., 5., 5., 5., 5.],\n",
       "        [5., 5., 5., 5., 5.],\n",
       "        [0., 0., 0., 0., 0.]])"
      ]
     },
     "execution_count": 6,
     "metadata": {},
     "output_type": "execute_result"
    }
   ],
   "source": [
    "dy, dx = right_diff(image)\n",
    "dy[0, 0, :, :]"
   ]
  },
  {
   "cell_type": "code",
   "execution_count": 7,
   "id": "8b550720-4ccf-4007-a9c0-aed3f8ca226b",
   "metadata": {
    "tags": []
   },
   "outputs": [
    {
     "data": {
      "text/plain": [
       "tensor([[1., 1., 1., 1., 0.],\n",
       "        [1., 1., 1., 1., 0.],\n",
       "        [1., 1., 1., 1., 0.],\n",
       "        [1., 1., 1., 1., 0.],\n",
       "        [1., 1., 1., 1., 0.]])"
      ]
     },
     "execution_count": 7,
     "metadata": {},
     "output_type": "execute_result"
    }
   ],
   "source": [
    "dx[0, 0, :, :]"
   ]
  },
  {
   "cell_type": "markdown",
   "id": "874448db-7b63-44ed-ae4a-caf0da9f052a",
   "metadata": {},
   "source": [
    "### Advection testing"
   ]
  },
  {
   "cell_type": "code",
   "execution_count": 8,
   "id": "94b9f825-a97e-4348-882e-8bfbf9fe763a",
   "metadata": {
    "tags": []
   },
   "outputs": [],
   "source": [
    "adv = Advection(right_diff)"
   ]
  },
  {
   "cell_type": "code",
   "execution_count": 9,
   "id": "bf6ee2bd-c8cb-4f92-a432-b5aa10e403fc",
   "metadata": {
    "tags": []
   },
   "outputs": [],
   "source": [
    "data = np.load(\"/project/vil_baek/data/physics/transport_eqn_square/transport_eqn_square_64_1.00_8.00_8.00_1.00_2.00_8.00_120_0.10.npy\")\n",
    "adv_gt = (data[1, :, :, 0] - data[0, :, :, 0])/0.1"
   ]
  },
  {
   "cell_type": "code",
   "execution_count": 10,
   "id": "913d23c8-4291-4ad2-bba1-37b6f91bd358",
   "metadata": {
    "tags": []
   },
   "outputs": [],
   "source": [
    "state_var = torch.permute(torch.tensor(data[0:1, :, :, 0:1], dtype=torch.float32), (0, 3, 1, 2))\n",
    "vel_var = torch.permute(torch.tensor(data[0:1, :, :, 1:], dtype=torch.float32), (0, 3, 1, 2))\n",
    "adv_parc = adv(state_var, vel_var)"
   ]
  },
  {
   "cell_type": "code",
   "execution_count": 14,
   "id": "3ebb7fa8-ce83-4a07-ad0b-a755c3a2aa44",
   "metadata": {
    "tags": []
   },
   "outputs": [
    {
     "data": {
      "text/plain": [
       "<matplotlib.image.AxesImage at 0x7f56143795d0>"
      ]
     },
     "execution_count": 14,
     "metadata": {},
     "output_type": "execute_result"
    },
    {
     "data": {
      "image/png": "[encoded data removed]",
      "text/plain": [
       "<Figure size 640x480 with 1 Axes>"
      ]
     },
     "metadata": {},
     "output_type": "display_data"
    }
   ],
   "source": [
    "plt.imshow(-adv_gt)\n",
    "plt."
   ]
  },
  {
   "cell_type": "code",
   "execution_count": 15,
   "id": "4cc45921-b431-46a9-826e-5a6eae092769",
   "metadata": {
    "tags": []
   },
   "outputs": [
    {
     "data": {
      "text/plain": [
       "<matplotlib.image.AxesImage at 0x7f56143f3940>"
      ]
     },
     "execution_count": 15,
     "metadata": {},
     "output_type": "execute_result"
    },
    {
     "data": {
      "image/png": "[encoded data removed]",
      "text/plain": [
       "<Figure size 640x480 with 1 Axes>"
      ]
     },
     "metadata": {},
     "output_type": "display_data"
    }
   ],
   "source": [
    "plt.imshow(adv_parc.detach().numpy()[0, 0, :, :])"
   ]
  },
  {
   "cell_type": "code",
   "execution_count": null,
   "id": "7584e6d3-ce42-4ad5-9fb6-2ac1969d3f6e",
   "metadata": {},
   "outputs": [],
   "source": []
  }
 ],
 "metadata": {
  "kernelspec": {
   "display_name": "PyTorch 2.4.0",
   "language": "python",
   "name": "pytorch-2.4.0"
  },
  "language_info": {
   "codemirror_mode": {
    "name": "ipython",
    "version": 3
   },
   "file_extension": ".py",
   "mimetype": "text/x-python",
   "name": "python",
   "nbconvert_exporter": "python",
   "pygments_lexer": "ipython3",
   "version": "3.10.12"
  }
 },
 "nbformat": 4,
 "nbformat_minor": 5
}
