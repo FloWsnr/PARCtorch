{
 "cells": [
  {
   "cell_type": "code",
   "execution_count": 3,
   "id": "b44861e5-6611-477a-86fc-388c58d199ee",
   "metadata": {
    "tags": []
   },
   "outputs": [
    {
     "name": "stderr",
     "output_type": "stream",
     "text": [
      "INFO:root:Starting data validation...\n",
      "INFO:root:Number of channels validated: 3\n",
      "INFO:root:Validating .npy files...\n",
      "Validating files:   0%|          | 0/100 [00:00<?, ?it/s]\n",
      "ERROR:root:Training data validation failed: File '/project/vil_baek/data/physics/original_burgers/train_data/burgers_train_10000_5_10.npy' has 64 channels; expected 3 channels.\n"
     ]
    },
    {
     "ename": "ValueError",
     "evalue": "File '/project/vil_baek/data/physics/original_burgers/train_data/burgers_train_10000_5_10.npy' has 64 channels; expected 3 channels.",
     "output_type": "error",
     "traceback": [
      "\u001b[0;31m---------------------------------------------------------------------------\u001b[0m",
      "\u001b[0;31mValueError\u001b[0m                                Traceback (most recent call last)",
      "Cell \u001b[0;32mIn[3], line 22\u001b[0m\n\u001b[1;32m     20\u001b[0m \u001b[38;5;66;03m# Perform data validation before creating the dataset\u001b[39;00m\n\u001b[1;32m     21\u001b[0m \u001b[38;5;28;01mtry\u001b[39;00m:\n\u001b[0;32m---> 22\u001b[0m     \u001b[43mvalidate_data_format\u001b[49m\u001b[43m(\u001b[49m\n\u001b[1;32m     23\u001b[0m \u001b[43m        \u001b[49m\u001b[43mdata_dirs\u001b[49m\u001b[38;5;241;43m=\u001b[39;49m\u001b[43mtrain_data_dirs\u001b[49m\u001b[43m,\u001b[49m\n\u001b[1;32m     24\u001b[0m \u001b[43m        \u001b[49m\u001b[43mfuture_steps\u001b[49m\u001b[38;5;241;43m=\u001b[39;49m\u001b[43mfuture_steps\u001b[49m\u001b[43m,\u001b[49m\n\u001b[1;32m     25\u001b[0m \u001b[43m        \u001b[49m\u001b[43mmin_max_path\u001b[49m\u001b[38;5;241;43m=\u001b[39;49m\u001b[43mmin_max_path\u001b[49m\u001b[43m,\u001b[49m\n\u001b[1;32m     26\u001b[0m \u001b[43m        \u001b[49m\u001b[43mrequired_channels\u001b[49m\u001b[38;5;241;43m=\u001b[39;49m\u001b[43mrequired_channels\u001b[49m\n\u001b[1;32m     27\u001b[0m \u001b[43m    \u001b[49m\u001b[43m)\u001b[49m\n\u001b[1;32m     28\u001b[0m     logging\u001b[38;5;241m.\u001b[39minfo(\u001b[38;5;124m\"\u001b[39m\u001b[38;5;124mTraining data passed validation.\u001b[39m\u001b[38;5;124m\"\u001b[39m)\n\u001b[1;32m     29\u001b[0m \u001b[38;5;28;01mexcept\u001b[39;00m (\u001b[38;5;167;01mValueError\u001b[39;00m, \u001b[38;5;167;01mFileNotFoundError\u001b[39;00m) \u001b[38;5;28;01mas\u001b[39;00m e:\n",
      "File \u001b[0;32m/sfs/qumulo/qhome/jtb3sud/PARCtorch/data/dataset.py:100\u001b[0m, in \u001b[0;36mvalidate_data_format\u001b[0;34m(data_dirs, future_steps, min_max_path, required_channels)\u001b[0m\n\u001b[1;32m     98\u001b[0m timesteps, channels, height, width \u001b[38;5;241m=\u001b[39m data\u001b[38;5;241m.\u001b[39mshape\n\u001b[1;32m     99\u001b[0m \u001b[38;5;28;01mif\u001b[39;00m required_channels \u001b[38;5;129;01mis\u001b[39;00m \u001b[38;5;129;01mnot\u001b[39;00m \u001b[38;5;28;01mNone\u001b[39;00m \u001b[38;5;129;01mand\u001b[39;00m channels \u001b[38;5;241m!=\u001b[39m required_channels:\n\u001b[0;32m--> 100\u001b[0m     \u001b[38;5;28;01mraise\u001b[39;00m \u001b[38;5;167;01mValueError\u001b[39;00m(\n\u001b[1;32m    101\u001b[0m         \u001b[38;5;124mf\u001b[39m\u001b[38;5;124m\"\u001b[39m\u001b[38;5;124mFile \u001b[39m\u001b[38;5;124m'\u001b[39m\u001b[38;5;132;01m{\u001b[39;00mfile\u001b[38;5;132;01m}\u001b[39;00m\u001b[38;5;124m'\u001b[39m\u001b[38;5;124m has \u001b[39m\u001b[38;5;132;01m{\u001b[39;00mchannels\u001b[38;5;132;01m}\u001b[39;00m\u001b[38;5;124m channels; expected \u001b[39m\u001b[38;5;132;01m{\u001b[39;00mrequired_channels\u001b[38;5;132;01m}\u001b[39;00m\u001b[38;5;124m channels.\u001b[39m\u001b[38;5;124m\"\u001b[39m\n\u001b[1;32m    102\u001b[0m     )\n\u001b[1;32m    103\u001b[0m \u001b[38;5;28;01melif\u001b[39;00m required_channels \u001b[38;5;129;01mis\u001b[39;00m \u001b[38;5;28;01mNone\u001b[39;00m \u001b[38;5;129;01mand\u001b[39;00m channels \u001b[38;5;241m!=\u001b[39m num_channels:\n\u001b[1;32m    104\u001b[0m     \u001b[38;5;28;01mraise\u001b[39;00m \u001b[38;5;167;01mValueError\u001b[39;00m(\n\u001b[1;32m    105\u001b[0m         \u001b[38;5;124mf\u001b[39m\u001b[38;5;124m\"\u001b[39m\u001b[38;5;124mFile \u001b[39m\u001b[38;5;124m'\u001b[39m\u001b[38;5;132;01m{\u001b[39;00mfile\u001b[38;5;132;01m}\u001b[39;00m\u001b[38;5;124m'\u001b[39m\u001b[38;5;124m has \u001b[39m\u001b[38;5;132;01m{\u001b[39;00mchannels\u001b[38;5;132;01m}\u001b[39;00m\u001b[38;5;124m channels; expected \u001b[39m\u001b[38;5;132;01m{\u001b[39;00mnum_channels\u001b[38;5;132;01m}\u001b[39;00m\u001b[38;5;124m channels based on min_max.json.\u001b[39m\u001b[38;5;124m\"\u001b[39m\n\u001b[1;32m    106\u001b[0m     )\n",
      "\u001b[0;31mValueError\u001b[0m: File '/project/vil_baek/data/physics/original_burgers/train_data/burgers_train_10000_5_10.npy' has 64 channels; expected 3 channels."
     ]
    }
   ],
   "source": [
    "# Now import the utilities\n",
    "from dataset import validate_data_format\n",
    "import os\n",
    "\n",
    "import logging\n",
    "\n",
    "# Configure logging to display information\n",
    "logging.basicConfig(level=logging.INFO)\n",
    "\n",
    "# Define data directories\n",
    "train_data_dirs = ['/project/vil_baek/data/physics/original_burgers/train_data']\n",
    "test_data_dirs = ['/project/vil_baek/data/physics/original_burgers/test_data']\n",
    "\n",
    "\n",
    "# Define other parameters\n",
    "future_steps = 5\n",
    "min_max_path = os.path.join('..', 'data', 'burgers_min_max.json')  # Correct path\n",
    "required_channels = 3  # Example: expecting 3 channels\n",
    "\n",
    "# Perform data validation before creating the dataset\n",
    "try:\n",
    "    validate_data_format(\n",
    "        data_dirs=train_data_dirs,\n",
    "        future_steps=future_steps,\n",
    "        min_max_path=min_max_path,\n",
    "        required_channels=required_channels\n",
    "    )\n",
    "    logging.info(\"Training data passed validation.\")\n",
    "except (ValueError, FileNotFoundError) as e:\n",
    "    logging.error(f\"Training data validation failed: {e}\")\n",
    "    # Handle the error (e.g., notify the user, exit the program)\n",
    "    raise\n",
    "\n",
    "try:\n",
    "    validate_data_format(\n",
    "        data_dirs=test_data_dirs,\n",
    "        future_steps=future_steps,\n",
    "        min_max_path=min_max_path,\n",
    "        required_channels=required_channels\n",
    "    )\n",
    "    logging.info(\"Testing data passed validation.\")\n",
    "except (ValueError, FileNotFoundError) as e:\n",
    "    logging.error(f\"Testing data validation failed: {e}\")\n",
    "    # Handle the error\n",
    "    raise\n"
   ]
  },
  {
   "cell_type": "code",
   "execution_count": null,
   "id": "90a784bf-ddf2-4b43-bc5e-57779ba0336b",
   "metadata": {},
   "outputs": [],
   "source": []
  }
 ],
 "metadata": {
  "kernelspec": {
   "display_name": "Python 3 (ipykernel)",
   "language": "python",
   "name": "python3"
  },
  "language_info": {
   "codemirror_mode": {
    "name": "ipython",
    "version": 3
   },
   "file_extension": ".py",
   "mimetype": "text/x-python",
   "name": "python",
   "nbconvert_exporter": "python",
   "pygments_lexer": "ipython3",
   "version": "3.11.4"
  }
 },
 "nbformat": 4,
 "nbformat_minor": 5
}
